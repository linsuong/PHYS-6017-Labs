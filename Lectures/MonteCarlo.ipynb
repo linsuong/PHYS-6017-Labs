{
 "cells": [
  {
   "cell_type": "markdown",
   "metadata": {},
   "source": [
    "# Monte Carlo Simulations\n",
    "when there are too many particles or variables changing, requring many repititions in an experiment to obtaind an approximate solution (in a distribution). generally uased for problems that are impossible to use in a certain way."
   ]
  },
  {
   "cell_type": "markdown",
   "metadata": {},
   "source": [
    "## Buffons Needle Problem:\n",
    "Consider: parallel lines distance L apart, where a stick of length L is thrown onto the lines. The probability of the stick touching the lines is required.\n",
    "Obtain an integral calculating the (number of hits/number of throws) - in this case, approx. $\\frac{1}{\\pi}$"
   ]
  },
  {
   "cell_type": "markdown",
   "metadata": {},
   "source": [
    "### How to run?\n",
    "Identify what you need to find.\n",
    "Analyse statistically what you obtain.\n",
    "\n",
    "It is not easy to understand how fast if the MonteCarlo will converge. It might not. Be critical of the results before interpreting. \n",
    "Error should decrease as $\\frac{1}{\\sqrt{N}}$, N is the number of simulations.\n",
    "\n",
    "It is up to the user to interpret the results."
   ]
  },
  {
   "cell_type": "markdown",
   "metadata": {},
   "source": [
    "## Types of Monte Carlo and additional resources:\n",
    "\n",
    "MCMC (Markov Chain Monte Carlo) \n",
    "Bootstrapping, Permutation, Jacknife, etc. etc."
   ]
  },
  {
   "cell_type": "markdown",
   "metadata": {},
   "source": [
    "## Drunkards Walk - Randomness.\n",
    "Random walk - discrete, fixed-length steps in random directions, where \\b{the next step does not depend on the last}.\n",
    "\n",
    "#What is Randomness?\n",
    "1D problem - person want to reach a point on a line.\n",
    "    flip a coin. heads, walk forward, tails, walk backward.\n",
    "    will the person reach the point?\n",
    "\n",
    "it is a 50-50 chance.\n",
    "\n",
    "Similarly, in a 2-D problem, it is similar, but now 4 directions."
   ]
  },
  {
   "cell_type": "markdown",
   "metadata": {},
   "source": [
    "# Brownian Motion\n",
    "\n",
    "when any of various physical phenomena where some quantity is constantly undergoing small changes.\n",
    "\n",
    "Random walk vs Brownian Motion\n",
    "Brownian Motion - discrete space and discrete time\n",
    "    i.e. king on an infinite chessboard, each time step, move one step."
   ]
  },
  {
   "cell_type": "markdown",
   "metadata": {},
   "source": [
    "# Randomness\n",
    "## Generating random numbers - How?\n",
    "\n",
    "When you dont understand a physical system, we use random numbers to help describe that system.\n",
    "We want REALLY random and FAST random number generation.\n",
    "\n",
    "random numbers are:\n",
    "- evenly distributed numbers in a set\n",
    "- numbers that are impossible to predict based on previous data\n",
    "\n",
    "Ref:\n",
    "- Kolmogorov complexity\n",
    "\n",
    "there is no algo that can generate sequence shorter than jsut a list of numbers\n",
    "\n",
    "you cannot tell if a number is random without knowing the context\n",
    "\n"
   ]
  },
  {
   "cell_type": "code",
   "execution_count": null,
   "metadata": {},
   "outputs": [],
   "source": [
    "import random\n",
    "\n",
    "random.seed(100) #seed gives a set of \"random\" numbers\n",
    "\n",
    "list = []\n",
    "length = 10\n",
    "\n",
    "for _ in range(length):\n",
    "    list.append(random.random())\n",
    "\n",
    "print(\"seed = 100\", list)\n",
    "\n",
    "random.seed(200) #seed gives a set of \"random\" numbers\n",
    "\n",
    "list = []\n",
    "length = 10\n",
    "\n",
    "for _ in range(length):\n",
    "    list.append(random.random())\n",
    "\n",
    "print(\"seed = 200\", list)\n",
    "\n",
    "random.seed(100) #seed gives a set of \"random\" numbers\n",
    "\n",
    "list = []\n",
    "length = 10\n",
    "\n",
    "for _ in range(length):\n",
    "    list.append(random.random())\n",
    "\n",
    "print(\"seed = 100\", list)"
   ]
  },
  {
   "cell_type": "markdown",
   "metadata": {},
   "source": [
    "* uniform distribution\n",
    "* no correlation\n",
    "* long period between repeated sequence\n",
    "* etc."
   ]
  },
  {
   "cell_type": "markdown",
   "metadata": {},
   "source": [
    "ref:\n",
    "Acceptance-Rejection (Rejection Sampling) method to generate random numbers"
   ]
  }
 ],
 "metadata": {
  "language_info": {
   "name": "python"
  }
 },
 "nbformat": 4,
 "nbformat_minor": 2
}
